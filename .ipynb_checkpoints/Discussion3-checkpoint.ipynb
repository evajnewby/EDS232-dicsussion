{
 "cells": [
  {
   "cell_type": "code",
   "execution_count": 1,
   "id": "d4175b31-1b9d-45fe-9a1b-80969c107d3c",
   "metadata": {
    "tags": []
   },
   "outputs": [],
   "source": [
    "# Import necessary libraries\n",
    "import numpy as np\n",
    "import pandas as pd\n",
    "from sklearn.model_selection import train_test_split\n",
    "from sklearn.linear_model import LogisticRegression\n",
    "from sklearn.metrics import roc_curve, auc, confusion_matrix\n",
    "import matplotlib.pyplot as plt\n",
    "from ipywidgets import interact, FloatSlider\n",
    "import seaborn as sns"
   ]
  },
  {
   "cell_type": "markdown",
   "id": "64aabb0a-caa8-4987-a3a9-143b39dfeecf",
   "metadata": {},
   "source": [
    "## Generate Species Data"
   ]
  },
  {
   "cell_type": "code",
   "execution_count": 2,
   "id": "7175ac41-49f4-4d1d-8f1f-b79e584d6ece",
   "metadata": {
    "tags": []
   },
   "outputs": [],
   "source": [
    "def generate_species_data(n_samples=1000, presence_ratio=0.3):\n",
    "    # Calculate number of samples for each class\n",
    "    n_present = int(n_samples * presence_ratio)\n",
    "    n_absent = n_samples - n_present\n",
    "    \n",
    "    # Generate features for presence sites \n",
    "    # Green crabs prefer warmer temps (between 64 and 79 degrees Fahrenheit) and  salinity between 26 and 39 ppt\n",
    "    temp_present = np.random.normal(loc=71, scale= 4, size=n_present)\n",
    "    salinity_present = np.random.normal(loc=32, scale=3, size=n_present)\n",
    "    X_present = np.column_stack([temp_present, salinity_present])\n",
    "    y_present = np.ones(n_present)\n",
    "    \n",
    "    # Generate features for absence sites\n",
    "    # Sites with warmer temps or lower salinity\n",
    "    temp_absent = np.random.normal(loc=26, scale=3, size=n_absent)\n",
    "    salinity_absent = np.random.normal(loc=28, scale=2, size=n_absent)\n",
    "    X_absent = np.column_stack([temp_absent, salinity_absent])\n",
    "    y_absent = np.zeros(n_absent)\n",
    "    \n",
    "    # Combine and shuffle the data\n",
    "    X = np.concatenate([X_present, X_absent])\n",
    "    y = np.concatenate([y_present, y_absent])\n",
    "    \n",
    "    # Shuffle the data\n",
    "    shuffle_idx = np.random.permutation(n_samples)\n",
    "    X = X[shuffle_idx]\n",
    "    y = y[shuffle_idx]\n",
    "    \n",
    "    return X, y"
   ]
  },
  {
   "cell_type": "markdown",
   "id": "3ea846a5-0330-4ccc-90f4-9872d2e1b9bc",
   "metadata": {},
   "source": [
    "## Function 2\n",
    "Create a function that creats a bar plot of species presense distribution based on the ratio selected by the user."
   ]
  },
  {
   "cell_type": "code",
   "execution_count": 3,
   "id": "712c057b-d0ba-4d34-9fb3-342576c9d660",
   "metadata": {},
   "outputs": [],
   "source": [
    "def plot_class_distribution(y):\n",
    "    plt.figure(figsize = (8,4))\n",
    "    \n",
    "    # Count the values in each category\n",
    "    class_counts = pd.Series(y).value_counts().sort_index()\n",
    "    \n",
    "    # Create a barplot of Absent and present species\n",
    "    sns.barplot(x = ['Absent', 'Present'], y = class_counts, color = '#005477')\n",
    "    plt.title('Dist of Species Present/Absent')\n",
    "    plt.ylabel('Number of sampling sites')\n",
    "    \n",
    "    # Add percent over each bar\n",
    "    total = len(y)\n",
    "    for i, count in enumerate(class_counts):\n",
    "        percentage = count/total * 100\n",
    "        plt.text(i, count, f'{percentage:.1f}%', ha = 'center', va = 'bottom')\n",
    "    plt.show()    \n",
    "    "
   ]
  },
  {
   "cell_type": "markdown",
   "id": "981ce72d-ad8a-4622-81e8-f1ccde60b6f2",
   "metadata": {},
   "source": [
    "## Function 3\n",
    "Create a function that plots a confusion matrix of the predicted y values and true y values."
   ]
  },
  {
   "cell_type": "code",
   "execution_count": 4,
   "id": "08aff8c1-b765-4b4d-ba63-83cbea92fcf7",
   "metadata": {
    "tags": []
   },
   "outputs": [],
   "source": [
    "def plot_confusion_matrix(y_true, y_pred):\n",
    "    \n",
    "    # Create confusion matrix\n",
    "    cm = confusion_matrix(y_true, y_pred)\n",
    "    \n",
    "    # Create confusion matrix plot\n",
    "    plt.figure(figsize = (8,6))\n",
    "    sns.heatmap(cm, annot = True, fmt = 'd', cmap = 'GnBu', \n",
    "               xticklabels = ['Absent', 'Present'],\n",
    "               yticklabels = ['Absent', 'Present'])\n",
    "    plt.title('Confusion Matrix')\n",
    "    plt.ylabel(\"True Label\")\n",
    "    plt.xlabel(\"Predicted Label\")\n",
    "    plt.show()\n",
    "    \n",
    "    \n",
    "    # Calculate metrics\n",
    "    TP = cm[1,1]\n",
    "    TN = cm[0,0]\n",
    "    FP = cm[0,1]\n",
    "    FN = cm[1,0]\n",
    "    \n",
    "    # Print statements for each\n",
    "    print(\"\\nMetrics from Confusion Matrix:\")\n",
    "    print(f\"True positives: {TP}\")\n",
    "    print(f\"True negatives: {TN}\")\n",
    "    print(f\"False positives: {FP}\")\n",
    "    print(f\"False negatives: {FN}\")\n",
    "    \n",
    "    # calculate accuracy and sensitivity\n",
    "    accuracy = (TP + TN)/(TP+TN+FP+FN)\n",
    "    majorite_baseline = max(np.mean(y_true), 1-np.mean(y_true))\n",
    "    sensitivity = TP/(TP+FN)\n",
    "    specificity = TN/(TN+FP)\n",
    "    \n",
    "    # Print metrics\n",
    "    print(\"\\nModel Performance Metrics:\")\n",
    "    print(f\"Accuracys : {accuracy:.3f}\")\n",
    "    print(f\"Sensitivity (True positive rate) : {sensitivity:.3f}\")\n",
    "    print(f\"Specificity (True negative rate): {specificity:.3f}\")\n",
    "    \n",
    "    \n"
   ]
  },
  {
   "cell_type": "markdown",
   "id": "9c847155-2f1f-4cec-be43-dc32bc40fe8f",
   "metadata": {},
   "source": [
    "## Function 4\n",
    "Create a function that plots an ROC curve using the predicted y class probabilities and true y values."
   ]
  },
  {
   "cell_type": "code",
   "execution_count": 11,
   "id": "48bd281e-73db-4229-bf1b-ff3ccac2ecbd",
   "metadata": {
    "tags": []
   },
   "outputs": [],
   "source": [
    "def plot_roc_curve(y_test, y_pred_prob):\n",
    "    fpr, tpr, _ = roc_curve(y_test, y_pred_prob) # the underscore is for ignoring the thresholds\n",
    "    roc_auc = auc(fpr, tpr)\n",
    "    \n",
    "    plt.figure(figsize = (8,6))\n",
    "    plt.plot(fpr,tpr, color = 'darkorange',lw = 2,\n",
    "            label = f\"ROC curve (AUC = {roc_auc:.2f})\")\n",
    "    plt.plot([0,1], [0,1], color = 'navy', lw = 2, linestyle = '--',\n",
    "            label = 'Random Classifier (AUC = 0.5)')\n",
    "    plt.xlabel('False positive rate')\n",
    "    plt.ylabel('True positive rate')\n",
    "    plt.title('ROC curve: Species presence prediction')\n",
    "    plt.legend()\n",
    "    plt.grid(True)\n",
    "    plt.show()\n",
    "    "
   ]
  },
  {
   "cell_type": "markdown",
   "id": "ec765495-54ce-402f-9d6d-29c8237b0524",
   "metadata": {},
   "source": [
    "## Function 5\n",
    "Create function that runs a logistic regression and outputs the three plots you created above."
   ]
  },
  {
   "cell_type": "code",
   "execution_count": 9,
   "id": "292aa08b-8508-4c44-ae40-cce1fa3302f0",
   "metadata": {
    "tags": []
   },
   "outputs": [],
   "source": [
    "def interactive_logistic_regression( presence_ratio = 0.3):\n",
    "    X, y  = generate_species_data(presence_ratio = presence_ratio)\n",
    "    \n",
    "    # Plot class distribution\n",
    "    print(\"\\nClass Distribution\")\n",
    "    plot_class_distribution(y)\n",
    "    \n",
    "    # Split the data\n",
    "    X_train, X_test, y_train, y_test = train_test_split(X, y, test_size = 0.3, random_state = 42)\n",
    "    \n",
    "    # train model\n",
    "    model = LogisticRegression().fit(X_train, y_train)\n",
    "    \n",
    "    # Make predictions\n",
    "    y_pred = model.predict(X_test)\n",
    "    y_pred_prob = model.predict_proba(X_test)[:, 1]\n",
    "    \n",
    "    # Plot confusion matrix\n",
    "    print(\"\\nConfusion Matrix\")\n",
    "    plot_confusion_matrix(y_test, y_pred)\n",
    "    \n",
    "    # Plot ROC curve\n",
    "    print(\"\\nROC Curve:\")\n",
    "    plot_roc_curve(y_test, y_pred_prob)"
   ]
  },
  {
   "cell_type": "markdown",
   "id": "a2c92cd4-15aa-4057-ba48-e4c18843350c",
   "metadata": {},
   "source": [
    "## Function 6\n",
    "Create a function that adds interactivity to function 5."
   ]
  },
  {
   "cell_type": "code",
   "execution_count": 12,
   "id": "7ddc8be3-0fc9-4ff8-be1c-4bbee2be29ab",
   "metadata": {
    "tags": []
   },
   "outputs": [
    {
     "data": {
      "application/vnd.jupyter.widget-view+json": {
       "model_id": "d9ec8eacd4094696b609a2d4779b0fe9",
       "version_major": 2,
       "version_minor": 0
      },
      "text/plain": [
       "interactive(children=(FloatSlider(value=0.3, description='presence_ratio', max=0.8999999999999999, min=-0.3), …"
      ]
     },
     "metadata": {},
     "output_type": "display_data"
    }
   ],
   "source": [
    "# Create interactive widget\n",
    "def generate_log_regression():\n",
    "    interact(interactive_logistic_regression, \n",
    "            widget_presence_ratio = FloatSlider(min = 0.1, max = 0.9, step = 0.1, value = 0.3, \n",
    "                                               description = \"% Present\")\n",
    "            )\n",
    "    \n",
    "generate_log_regression()"
   ]
  }
 ],
 "metadata": {
  "kernelspec": {
   "display_name": "Anaconda 3 (EDS232)",
   "language": "python",
   "name": "ml-env"
  },
  "language_info": {
   "codemirror_mode": {
    "name": "ipython",
    "version": 3
   },
   "file_extension": ".py",
   "mimetype": "text/x-python",
   "name": "python",
   "nbconvert_exporter": "python",
   "pygments_lexer": "ipython3",
   "version": "3.10.16"
  }
 },
 "nbformat": 4,
 "nbformat_minor": 5
}
