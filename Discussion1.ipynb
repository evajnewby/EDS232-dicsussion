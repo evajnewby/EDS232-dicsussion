{
 "cells": [
  {
   "cell_type": "markdown",
   "id": "9d214369-c262-46a0-8b7b-ca17f16146a6",
   "metadata": {},
   "source": [
    "# EDS232 Discussion 1: Creating Widgets for Multiple Linear Regression\n",
    "\n",
    "https://maro406.github.io/eds-232-machine-learning/discussion/week1.html\n"
   ]
  },
  {
   "cell_type": "code",
   "execution_count": 20,
   "id": "948c21c9-aaef-40bf-a874-6232b409ffdf",
   "metadata": {
    "tags": []
   },
   "outputs": [],
   "source": [
    "# Load libraries\n",
    "import pandas as pd\n",
    "import numpy as np\n",
    "from sklearn.linear_model import LinearRegression\n",
    "from sklearn.model_selection import train_test_split\n",
    "from sklearn.metrics import mean_squared_error, r2_score\n",
    "import matplotlib.pyplot as plt\n",
    "from ipywidgets import interact\n",
    "import ipywidgets as widgets\n",
    "from ipywidgets import interact, FloatSlider\n",
    "from IPython.display import display, clear_output"
   ]
  },
  {
   "cell_type": "code",
   "execution_count": 9,
   "id": "5a4b8977-1639-41fe-a783-6470af12a505",
   "metadata": {
    "tags": []
   },
   "outputs": [],
   "source": [
    "# Read-in data\n",
    "file_path = \"data/hurricane.xlsx\"\n",
    "\n",
    "do_data = pd.read_excel(\"data/hurricane.xlsx\", sheet_name=5).drop(['Piermont D.O. (ppm)'], axis=1)\n",
    "\n",
    "turbidity_data = pd.read_excel(\"data/hurricane.xlsx\",\n",
    "                            sheet_name= 'Turbidity').drop(['Piermont Turbidity in NTU'], axis=1)\n",
    "\n",
    "rainfall_data = pd.read_excel(\"data/hurricane.xlsx\",\n",
    "                            sheet_name= 'Rainfall').drop(['Piermont  Rainfall Daily Accumulation (Inches)'], axis=1)"
   ]
  },
  {
   "cell_type": "markdown",
   "id": "f7be2ccc-44ab-42b3-8ed7-c42b5ea48843",
   "metadata": {},
   "source": [
    "## Data Cleaning\n",
    "\n",
    "We need to merge our different data frames, we can merge our data on this. "
   ]
  },
  {
   "cell_type": "code",
   "execution_count": 22,
   "id": "cc04e290-fddf-4b72-88cb-46ea2613dc27",
   "metadata": {
    "tags": []
   },
   "outputs": [
    {
     "data": {
      "text/html": [
       "<div>\n",
       "<style scoped>\n",
       "    .dataframe tbody tr th:only-of-type {\n",
       "        vertical-align: middle;\n",
       "    }\n",
       "\n",
       "    .dataframe tbody tr th {\n",
       "        vertical-align: top;\n",
       "    }\n",
       "\n",
       "    .dataframe thead th {\n",
       "        text-align: right;\n",
       "    }\n",
       "</style>\n",
       "<table border=\"1\" class=\"dataframe\">\n",
       "  <thead>\n",
       "    <tr style=\"text-align: right;\">\n",
       "      <th></th>\n",
       "      <th>albany_DO</th>\n",
       "      <th>norrie_DO</th>\n",
       "      <th>albany_rainfall</th>\n",
       "      <th>norrie_rainfall</th>\n",
       "      <th>albany_turbidity</th>\n",
       "      <th>norrie_turbidity</th>\n",
       "      <th>data</th>\n",
       "    </tr>\n",
       "    <tr>\n",
       "      <th>date</th>\n",
       "      <th></th>\n",
       "      <th></th>\n",
       "      <th></th>\n",
       "      <th></th>\n",
       "      <th></th>\n",
       "      <th></th>\n",
       "      <th></th>\n",
       "    </tr>\n",
       "  </thead>\n",
       "  <tbody>\n",
       "    <tr>\n",
       "      <th>2011-08-25 00:00:00</th>\n",
       "      <td>7.68</td>\n",
       "      <td>7.81</td>\n",
       "      <td>0.0</td>\n",
       "      <td>0.0</td>\n",
       "      <td>4.0</td>\n",
       "      <td>9.3</td>\n",
       "      <td>2011-08-25 00:00:00</td>\n",
       "    </tr>\n",
       "    <tr>\n",
       "      <th>2011-08-25 00:15:00</th>\n",
       "      <td>7.60</td>\n",
       "      <td>7.73</td>\n",
       "      <td>0.0</td>\n",
       "      <td>0.0</td>\n",
       "      <td>3.9</td>\n",
       "      <td>8.4</td>\n",
       "      <td>2011-08-25 00:15:00</td>\n",
       "    </tr>\n",
       "    <tr>\n",
       "      <th>2011-08-25 00:30:00</th>\n",
       "      <td>7.57</td>\n",
       "      <td>7.63</td>\n",
       "      <td>0.0</td>\n",
       "      <td>0.0</td>\n",
       "      <td>4.3</td>\n",
       "      <td>7.9</td>\n",
       "      <td>2011-08-25 00:30:00</td>\n",
       "    </tr>\n",
       "    <tr>\n",
       "      <th>2011-08-25 00:45:00</th>\n",
       "      <td>7.72</td>\n",
       "      <td>7.67</td>\n",
       "      <td>0.0</td>\n",
       "      <td>0.0</td>\n",
       "      <td>4.7</td>\n",
       "      <td>8.1</td>\n",
       "      <td>2011-08-25 00:45:00</td>\n",
       "    </tr>\n",
       "    <tr>\n",
       "      <th>2011-08-25 01:00:00</th>\n",
       "      <td>7.74</td>\n",
       "      <td>7.63</td>\n",
       "      <td>0.0</td>\n",
       "      <td>0.0</td>\n",
       "      <td>4.4</td>\n",
       "      <td>8.4</td>\n",
       "      <td>2011-08-25 01:00:00</td>\n",
       "    </tr>\n",
       "  </tbody>\n",
       "</table>\n",
       "</div>"
      ],
      "text/plain": [
       "                     albany_DO  norrie_DO  albany_rainfall  norrie_rainfall  \\\n",
       "date                                                                          \n",
       "2011-08-25 00:00:00       7.68       7.81              0.0              0.0   \n",
       "2011-08-25 00:15:00       7.60       7.73              0.0              0.0   \n",
       "2011-08-25 00:30:00       7.57       7.63              0.0              0.0   \n",
       "2011-08-25 00:45:00       7.72       7.67              0.0              0.0   \n",
       "2011-08-25 01:00:00       7.74       7.63              0.0              0.0   \n",
       "\n",
       "                     albany_turbidity  norrie_turbidity                data  \n",
       "date                                                                         \n",
       "2011-08-25 00:00:00               4.0               9.3 2011-08-25 00:00:00  \n",
       "2011-08-25 00:15:00               3.9               8.4 2011-08-25 00:15:00  \n",
       "2011-08-25 00:30:00               4.3               7.9 2011-08-25 00:30:00  \n",
       "2011-08-25 00:45:00               4.7               8.1 2011-08-25 00:45:00  \n",
       "2011-08-25 01:00:00               4.4               8.4 2011-08-25 01:00:00  "
      ]
     },
     "execution_count": 22,
     "metadata": {},
     "output_type": "execute_result"
    }
   ],
   "source": [
    "# Merge the datasets\n",
    "data = do_data.merge(rainfall_data, on = 'Date Time (ET)') \n",
    "data = data.merge(turbidity_data, on = 'Date Time (ET)')\n",
    "data.head()\n",
    "\n",
    "# Update column names\n",
    "data.columns = ['date', 'albany_DO', 'norrie_DO', 'albany_rainfall', 'norrie_rainfall', 'albany_turbidity', 'norrie_turbidity']\n",
    "\n",
    "# Convert data to datetime format and set as index\n",
    "data['data']= pd.to_datetime(data['date'])\n",
    "data.set_index('date', inplace = True)\n",
    "\n",
    "data.head()"
   ]
  },
  {
   "cell_type": "markdown",
   "id": "11cec7ed-6e1a-4908-a5e2-eb305f860348",
   "metadata": {},
   "source": [
    "### Multiple Linear Regression"
   ]
  },
  {
   "cell_type": "code",
   "execution_count": 38,
   "id": "3ce6f052-7a11-4ca6-abc2-b4629e82520d",
   "metadata": {
    "tags": []
   },
   "outputs": [
    {
     "name": "stdout",
     "output_type": "stream",
     "text": [
      "Mean Squared Error: 49245.97762215778\n",
      "R² Score: 0.4907389518457509\n",
      "RMSE Score: 221.9143474905527\n"
     ]
    }
   ],
   "source": [
    "# Define predictors and the target variable\n",
    "X = data[['albany_DO', 'albany_rainfall']]\n",
    "Y = data[['albany_turbidity']]\n",
    "\n",
    "# Split data into training and testing sets\n",
    "X_train, X_test, Y_train, Y_test = train_test_split(X, Y, test_size = 0.3, random_state = 42)\n",
    "\n",
    "# Create and fit model\n",
    "model = LinearRegression()\n",
    "model.fit(X_train, Y_train)\n",
    "\n",
    "# Predict and evaluate\n",
    "Y_pred = model.predict(X_test)\n",
    "Y_pred\n",
    "\n",
    "# Calculate evaluation metrics using scikit-learn's mean_squared_error and r2_score, and RMSE\n",
    "rmse = np.sqrt(mean_squared_error(Y_test, Y_pred))\n",
    "\n",
    "mse = mean_squared_error(Y_test, Y_pred)\n",
    "r2 = r2_score(Y_test, Y_pred)\n",
    "\n",
    "print(f\"Mean Squared Error: {mse}\")\n",
    "print(f\"R² Score: {r2}\")\n",
    "print(f\"RMSE Score: {rmse}\")"
   ]
  },
  {
   "cell_type": "markdown",
   "id": "740fd222-5e43-4805-ba75-9ae8a82e1665",
   "metadata": {},
   "source": [
    "## Create a widget to visualize different models"
   ]
  },
  {
   "cell_type": "code",
   "execution_count": 45,
   "id": "e4d43607-b2c4-4440-9481-e66da5a260cc",
   "metadata": {
    "tags": []
   },
   "outputs": [
    {
     "data": {
      "application/vnd.jupyter.widget-view+json": {
       "model_id": "76cdf164a4c542b78d97faee159f3e38",
       "version_major": 2,
       "version_minor": 0
      },
      "text/plain": [
       "SelectMultiple(description='Predictors', index=(0,), options=('albany_DO', 'norrie_DO', 'albany_rainfall', 'no…"
      ]
     },
     "metadata": {},
     "output_type": "display_data"
    },
    {
     "data": {
      "application/vnd.jupyter.widget-view+json": {
       "model_id": "6079465e02ac4d8ab06e60734628dba1",
       "version_major": 2,
       "version_minor": 0
      },
      "text/plain": [
       "Dropdown(description='Target', index=1, options=('albany_DO', 'norrie_DO', 'albany_rainfall', 'norrie_rainfall…"
      ]
     },
     "metadata": {},
     "output_type": "display_data"
    },
    {
     "data": {
      "application/vnd.jupyter.widget-view+json": {
       "model_id": "9fa2e5594d6d408d82991b1377c249bf",
       "version_major": 2,
       "version_minor": 0
      },
      "text/plain": [
       "Button(description='Evaluate Model', style=ButtonStyle())"
      ]
     },
     "metadata": {},
     "output_type": "display_data"
    },
    {
     "data": {
      "application/vnd.jupyter.widget-view+json": {
       "model_id": "ad2656179923449c92f48de61ea289e1",
       "version_major": 2,
       "version_minor": 0
      },
      "text/plain": [
       "Output()"
      ]
     },
     "metadata": {},
     "output_type": "display_data"
    }
   ],
   "source": [
    "# Create a widget for selecting predictors\n",
    "predictor_selector = widgets.SelectMultiple(\n",
    "    options = data.columns,\n",
    "    value = (data.columns[0],),\n",
    "    description = 'Predictors'\n",
    ")\n",
    "\n",
    "# Create a dropdown for selecting the target variable\n",
    "target_selector = widgets.Dropdown(\n",
    "    options = data.columns,\n",
    "    value = data.columns[1],\n",
    "    description = 'Target'\n",
    ")\n",
    "\n",
    "# Button to evaluate the  model\n",
    "evaluate_button = widgets.Button(description = 'Evaluate Model')\n",
    "\n",
    "# Output widgets to display results\n",
    "output = widgets.Output()\n",
    "\n",
    "# Define the function to handle button clicks\n",
    "def evaluate_model(b):\n",
    "    with output:\n",
    "        clear_output(wait=True)\n",
    "        \n",
    "        # Make sure target is not in the predictors\n",
    "        selected_predictors = [item for item in predictor_selector.value]\n",
    "        if target_selector.value in selected_predictors :\n",
    "            print(\"Target variable must not be in the predictors.\")\n",
    "            return \n",
    "        \n",
    "        # Prepare the data\n",
    "        X = data[selected_predictors]\n",
    "        y = data[target_selector.value]\n",
    "        \n",
    "        # Split data into training and testing\n",
    "        X_train, X_test, Y_train, Y_test = train_test_split(X, Y, test_size = 0.3, random_state = 42)\n",
    "        \n",
    "        # Create and fit model\n",
    "        model = LinearRegression()\n",
    "        model.fit(X_train, Y_train)\n",
    "        \n",
    "       # Predict and calculate R2 and MSe\n",
    "        y_pred = model.predict(X_test)\n",
    "        r2 = r2_score(Y_test, Y_pred)\n",
    "        mse = mean_squared_error(Y_test, Y_pred)\n",
    "        \n",
    "        # Display the R2 score and MSE\n",
    "        print(f\"R2: {r2:.4f}\")\n",
    "        print(f\"MSE: {mse:.4f}\")\n",
    "        \n",
    "# Display the widget\n",
    "display(predictor_selector, target_selector, evaluate_button, output)\n",
    "evaluate_button.on_click(evaluate_model)\n"
   ]
  }
 ],
 "metadata": {
  "kernelspec": {
   "display_name": "Anaconda 3 (EDS232)",
   "language": "python",
   "name": "ml-env"
  },
  "language_info": {
   "codemirror_mode": {
    "name": "ipython",
    "version": 3
   },
   "file_extension": ".py",
   "mimetype": "text/x-python",
   "name": "python",
   "nbconvert_exporter": "python",
   "pygments_lexer": "ipython3",
   "version": "3.10.16"
  }
 },
 "nbformat": 4,
 "nbformat_minor": 5
}
