{
 "cells": [
  {
   "cell_type": "markdown",
   "id": "95f68130-b29a-4b28-a8c9-233172f7db78",
   "metadata": {},
   "source": [
    "## Discussion 4\n",
    "1/30/25\n",
    "\n",
    "Eva Newby\n"
   ]
  },
  {
   "cell_type": "code",
   "execution_count": 1,
   "id": "dd5e3afe-9e71-4be9-8dbe-2cce5584fa87",
   "metadata": {
    "tags": []
   },
   "outputs": [],
   "source": [
    "# Load Libraries\n",
    "import pandas as pd\n",
    "import numpy as np\n",
    "import matplotlib.pyplot as plt\n",
    "import seaborn as sns\n",
    "from sklearn.model_selection import train_test_split\n",
    "from sklearn.neighbors import KNeighborsClassifier\n",
    "from sklearn.tree import DecisionTreeClassifier\n",
    "from sklearn.metrics import  accuracy_score\n",
    "from sklearn.tree import plot_tree\n",
    "from sklearn.preprocessing import StandardScaler"
   ]
  },
  {
   "cell_type": "code",
   "execution_count": 4,
   "id": "0b4a44af-444d-4729-82c0-a3cb19f90fff",
   "metadata": {
    "tags": []
   },
   "outputs": [
    {
     "data": {
      "text/html": [
       "<div>\n",
       "<style scoped>\n",
       "    .dataframe tbody tr th:only-of-type {\n",
       "        vertical-align: middle;\n",
       "    }\n",
       "\n",
       "    .dataframe tbody tr th {\n",
       "        vertical-align: top;\n",
       "    }\n",
       "\n",
       "    .dataframe thead th {\n",
       "        text-align: right;\n",
       "    }\n",
       "</style>\n",
       "<table border=\"1\" class=\"dataframe\">\n",
       "  <thead>\n",
       "    <tr style=\"text-align: right;\">\n",
       "      <th></th>\n",
       "      <th>ParkCode</th>\n",
       "      <th>ParkName</th>\n",
       "      <th>CategoryName</th>\n",
       "      <th>Order</th>\n",
       "      <th>Family</th>\n",
       "      <th>TaxonRecordStatus</th>\n",
       "      <th>SciName</th>\n",
       "      <th>CommonNames</th>\n",
       "      <th>ParkAccepted</th>\n",
       "      <th>Sensitive</th>\n",
       "      <th>...</th>\n",
       "      <th>ParkTags</th>\n",
       "      <th>References</th>\n",
       "      <th>Observations</th>\n",
       "      <th>Vouchers</th>\n",
       "      <th>ExternalLinks</th>\n",
       "      <th>TEStatus</th>\n",
       "      <th>StateStatus</th>\n",
       "      <th>OzoneSensitiveStatus</th>\n",
       "      <th>GRank</th>\n",
       "      <th>SRank</th>\n",
       "    </tr>\n",
       "  </thead>\n",
       "  <tbody>\n",
       "    <tr>\n",
       "      <th>0</th>\n",
       "      <td>ACAD</td>\n",
       "      <td>Acadia National Park</td>\n",
       "      <td>Mammal</td>\n",
       "      <td>Artiodactyla</td>\n",
       "      <td>Cervidae</td>\n",
       "      <td>Active</td>\n",
       "      <td>Alces alces</td>\n",
       "      <td>Moose</td>\n",
       "      <td>True</td>\n",
       "      <td>False</td>\n",
       "      <td>...</td>\n",
       "      <td>NaN</td>\n",
       "      <td>11</td>\n",
       "      <td>1</td>\n",
       "      <td>0</td>\n",
       "      <td>NaN</td>\n",
       "      <td>50</td>\n",
       "      <td>NaN</td>\n",
       "      <td>NaN</td>\n",
       "      <td>G5</td>\n",
       "      <td>ME: S5</td>\n",
       "    </tr>\n",
       "    <tr>\n",
       "      <th>1</th>\n",
       "      <td>ACAD</td>\n",
       "      <td>Acadia National Park</td>\n",
       "      <td>Mammal</td>\n",
       "      <td>Artiodactyla</td>\n",
       "      <td>Cervidae</td>\n",
       "      <td>Active</td>\n",
       "      <td>Odocoileus virginianus</td>\n",
       "      <td>Northern White-tailed Deer, Virginia Deer, Whi...</td>\n",
       "      <td>True</td>\n",
       "      <td>False</td>\n",
       "      <td>...</td>\n",
       "      <td>NaN</td>\n",
       "      <td>20</td>\n",
       "      <td>0</td>\n",
       "      <td>0</td>\n",
       "      <td>NaN</td>\n",
       "      <td>50</td>\n",
       "      <td>NaN</td>\n",
       "      <td>NaN</td>\n",
       "      <td>G5</td>\n",
       "      <td>ME: S5</td>\n",
       "    </tr>\n",
       "    <tr>\n",
       "      <th>2</th>\n",
       "      <td>ACAD</td>\n",
       "      <td>Acadia National Park</td>\n",
       "      <td>Mammal</td>\n",
       "      <td>Carnivora</td>\n",
       "      <td>Canidae</td>\n",
       "      <td>Active</td>\n",
       "      <td>Canis latrans</td>\n",
       "      <td>Coyote, Eastern Coyote</td>\n",
       "      <td>True</td>\n",
       "      <td>False</td>\n",
       "      <td>...</td>\n",
       "      <td>NaN</td>\n",
       "      <td>8</td>\n",
       "      <td>1</td>\n",
       "      <td>0</td>\n",
       "      <td>NaN</td>\n",
       "      <td>SC</td>\n",
       "      <td>NaN</td>\n",
       "      <td>NaN</td>\n",
       "      <td>G5</td>\n",
       "      <td>ME: S5</td>\n",
       "    </tr>\n",
       "    <tr>\n",
       "      <th>3</th>\n",
       "      <td>ACAD</td>\n",
       "      <td>Acadia National Park</td>\n",
       "      <td>Mammal</td>\n",
       "      <td>Carnivora</td>\n",
       "      <td>Canidae</td>\n",
       "      <td>Active</td>\n",
       "      <td>Canis lupus</td>\n",
       "      <td>Eastern Timber Wolf, Gray Wolf, Timber Wolf</td>\n",
       "      <td>True</td>\n",
       "      <td>False</td>\n",
       "      <td>...</td>\n",
       "      <td>NaN</td>\n",
       "      <td>2</td>\n",
       "      <td>0</td>\n",
       "      <td>0</td>\n",
       "      <td>NaN</td>\n",
       "      <td>E</td>\n",
       "      <td>NaN</td>\n",
       "      <td>NaN</td>\n",
       "      <td>G5</td>\n",
       "      <td>ME: SH</td>\n",
       "    </tr>\n",
       "    <tr>\n",
       "      <th>4</th>\n",
       "      <td>ACAD</td>\n",
       "      <td>Acadia National Park</td>\n",
       "      <td>Mammal</td>\n",
       "      <td>Carnivora</td>\n",
       "      <td>Canidae</td>\n",
       "      <td>Active</td>\n",
       "      <td>Vulpes vulpes</td>\n",
       "      <td>Black Fox, Cross Fox, Eastern Red Fox, Fox, Re...</td>\n",
       "      <td>True</td>\n",
       "      <td>False</td>\n",
       "      <td>...</td>\n",
       "      <td>NaN</td>\n",
       "      <td>16</td>\n",
       "      <td>0</td>\n",
       "      <td>0</td>\n",
       "      <td>NaN</td>\n",
       "      <td>NaN</td>\n",
       "      <td>NaN</td>\n",
       "      <td>NaN</td>\n",
       "      <td>G5</td>\n",
       "      <td>ME: S5</td>\n",
       "    </tr>\n",
       "  </tbody>\n",
       "</table>\n",
       "<p>5 rows × 27 columns</p>\n",
       "</div>"
      ],
      "text/plain": [
       "  ParkCode              ParkName CategoryName         Order    Family  \\\n",
       "0     ACAD  Acadia National Park       Mammal  Artiodactyla  Cervidae   \n",
       "1     ACAD  Acadia National Park       Mammal  Artiodactyla  Cervidae   \n",
       "2     ACAD  Acadia National Park       Mammal     Carnivora   Canidae   \n",
       "3     ACAD  Acadia National Park       Mammal     Carnivora   Canidae   \n",
       "4     ACAD  Acadia National Park       Mammal     Carnivora   Canidae   \n",
       "\n",
       "  TaxonRecordStatus                 SciName  \\\n",
       "0            Active             Alces alces   \n",
       "1            Active  Odocoileus virginianus   \n",
       "2            Active           Canis latrans   \n",
       "3            Active             Canis lupus   \n",
       "4            Active           Vulpes vulpes   \n",
       "\n",
       "                                         CommonNames  ParkAccepted  Sensitive  \\\n",
       "0                                              Moose          True      False   \n",
       "1  Northern White-tailed Deer, Virginia Deer, Whi...          True      False   \n",
       "2                             Coyote, Eastern Coyote          True      False   \n",
       "3        Eastern Timber Wolf, Gray Wolf, Timber Wolf          True      False   \n",
       "4  Black Fox, Cross Fox, Eastern Red Fox, Fox, Re...          True      False   \n",
       "\n",
       "   ... ParkTags References Observations Vouchers ExternalLinks TEStatus  \\\n",
       "0  ...      NaN         11            1        0           NaN       50   \n",
       "1  ...      NaN         20            0        0           NaN       50   \n",
       "2  ...      NaN          8            1        0           NaN       SC   \n",
       "3  ...      NaN          2            0        0           NaN        E   \n",
       "4  ...      NaN         16            0        0           NaN      NaN   \n",
       "\n",
       "  StateStatus OzoneSensitiveStatus  GRank   SRank  \n",
       "0         NaN                  NaN     G5  ME: S5  \n",
       "1         NaN                  NaN     G5  ME: S5  \n",
       "2         NaN                  NaN     G5  ME: S5  \n",
       "3         NaN                  NaN     G5  ME: SH  \n",
       "4         NaN                  NaN     G5  ME: S5  \n",
       "\n",
       "[5 rows x 27 columns]"
      ]
     },
     "execution_count": 4,
     "metadata": {},
     "output_type": "execute_result"
    }
   ],
   "source": [
    "# Read in data\n",
    "parks = pd.read_csv(\"data/national_park_species.csv\")\n",
    "\n",
    "# View df\n",
    "parks.head()"
   ]
  },
  {
   "cell_type": "code",
   "execution_count": 6,
   "id": "5974355a-301b-4198-a5a5-02fc4942614a",
   "metadata": {
    "tags": []
   },
   "outputs": [],
   "source": [
    "# Encode categorical variables\n",
    "for col in ['CategoryName', 'Order', 'Family', 'GRank', 'ParkName', 'Sensitive', 'Nativeness', 'Observations']:\n",
    "    parks[f\"{col}_cat\"] = parks[col].astype('category').cat.codes"
   ]
  },
  {
   "cell_type": "code",
   "execution_count": 7,
   "id": "5199a5be-08a5-463a-a1d0-3fab8abc77ae",
   "metadata": {
    "tags": []
   },
   "outputs": [
    {
     "data": {
      "text/plain": [
       "Index(['ParkCode', 'ParkName', 'CategoryName', 'Order', 'Family',\n",
       "       'TaxonRecordStatus', 'SciName', 'CommonNames', 'ParkAccepted',\n",
       "       'Sensitive', 'RecordStatus', 'Occurrence', 'OccurrenceTags',\n",
       "       'Nativeness', 'NativenessTags', 'Abundance', 'NPSTags', 'ParkTags',\n",
       "       'References', 'Observations', 'Vouchers', 'ExternalLinks', 'TEStatus',\n",
       "       'StateStatus', 'OzoneSensitiveStatus', 'GRank', 'SRank',\n",
       "       'CategoryName_cat', 'Order_cat', 'Family_cat', 'GRank_cat',\n",
       "       'ParkName_cat', 'Sensitive_cat', 'Nativeness_cat', 'Observations_cat'],\n",
       "      dtype='object')"
      ]
     },
     "execution_count": 7,
     "metadata": {},
     "output_type": "execute_result"
    }
   ],
   "source": [
    "# View changes\n",
    "parks.columns"
   ]
  },
  {
   "cell_type": "code",
   "execution_count": 15,
   "id": "108b1fe3-f05b-4934-8cf4-cdcfc4ade006",
   "metadata": {
    "tags": []
   },
   "outputs": [],
   "source": [
    "# Split into X and Y, Scale data\n",
    "X = parks[['CategoryName_cat', 'Order_cat', 'Family_cat', 'GRank_cat', 'Sensitive_cat', 'Nativeness_cat', 'Observations_cat']]\n",
    "y = parks['ParkName_cat']\n",
    "\n",
    "# Split the data\n",
    "X_train, X_test, y_train, y_test = train_test_split(X, y, test_size = 0.3, random_state = 42)\n",
    "\n",
    "# Scale the data\n",
    "scaler = StandardScaler()\n",
    "\n",
    "# Fit and transform train\n",
    "X_train_scaled = scaler.fit_transform(X_train)\n",
    "\n",
    "# transform test \n",
    "X_test_scaled = scaler.transform(X_test)"
   ]
  },
  {
   "cell_type": "markdown",
   "id": "689ee074-7923-48b7-ae2a-2978db5ac2ad",
   "metadata": {},
   "source": [
    "## KNN model"
   ]
  },
  {
   "cell_type": "code",
   "execution_count": 16,
   "id": "af5f4e3d-8cc4-4c03-8d5f-a16b4c0b59c8",
   "metadata": {
    "tags": []
   },
   "outputs": [],
   "source": [
    "# Initialize KNN classifier\n",
    "knn = KNeighborsClassifier()\n",
    "knn.fit(X_train_scaled, y_train)\n",
    "y_pred = knn.predict(X_test_scaled)"
   ]
  },
  {
   "cell_type": "code",
   "execution_count": 17,
   "id": "5200c7df-a6cd-4768-8b03-86c1ffef0bb9",
   "metadata": {
    "tags": []
   },
   "outputs": [
    {
     "name": "stdout",
     "output_type": "stream",
     "text": [
      "0.5551374345549738\n"
     ]
    }
   ],
   "source": [
    "# Calculate accuracy score\n",
    "accuracy = accuracy_score(y_test, y_pred)\n",
    "print(accuracy)"
   ]
  },
  {
   "cell_type": "markdown",
   "id": "2a26aa96-6660-43a6-9fc8-04fb64c15cde",
   "metadata": {},
   "source": [
    "## Visualize KNN resuls"
   ]
  },
  {
   "cell_type": "code",
   "execution_count": 24,
   "id": "dc852047-4462-46fb-abae-c4d0fdf8fff8",
   "metadata": {
    "tags": []
   },
   "outputs": [],
   "source": [
    "# See this for homework extra credit!!!\n",
    "def knn():\n",
    "    \n",
    "    k_values = [3,5,7,9,11]\n",
    "    accuracies = [ ]\n",
    "    \n",
    "    # Loop through the different k values and fit a model for better accuracy\n",
    "    for k in k_values:\n",
    "        knn = KNeighborsClassifier(n_neighbors = k)\n",
    "        knn.fit(X_train_scaled, y_train)\n",
    "        \n",
    "        # make predictions and calculate accuracy\n",
    "        y_pred = knn.predict(X_test_scaled)\n",
    "        accuracy = accuracy_score(y_test, y_pred)\n",
    "        accuracies.append(accuracy)\n",
    "        \n",
    "        print(f\"K = {k} - Accuracy: {accuracy:.3f}\")\n",
    "        \n",
    "    # Visualize the effect of k on accuracy\n",
    "    plt.figure(figsize = (10,6))\n",
    "    plt.plot(k_values, accuracies, marker = 'o')\n",
    "    plt.xlabel('Number of Neighbors')\n",
    "    plt.ylabel('Accuracy')\n",
    "    plt.title('KNN: Effect of K on Model Accuracy')\n",
    "    plt.grid(True)\n",
    "    plt.show()\n",
    "    "
   ]
  },
  {
   "cell_type": "code",
   "execution_count": 25,
   "id": "d8f60adc-0c1d-4fc5-8cb8-547ad7576eda",
   "metadata": {
    "tags": []
   },
   "outputs": [
    {
     "name": "stdout",
     "output_type": "stream",
     "text": [
      "K = 3 - Accuracy: 0.554\n",
      "K = 5 - Accuracy: 0.555\n",
      "K = 7 - Accuracy: 0.554\n",
      "K = 9 - Accuracy: 0.557\n",
      "K = 11 - Accuracy: 0.556\n"
     ]
    },
    {
     "data": {
      "image/png": "[encoded data removed]",
      "text/plain": [
       "<Figure size 1000x600 with 1 Axes>"
      ]
     },
     "metadata": {},
     "output_type": "display_data"
    }
   ],
   "source": [
    "knn()"
   ]
  },
  {
   "cell_type": "markdown",
   "id": "a58fda2a-e34d-461e-838d-9041d8aa5ab1",
   "metadata": {},
   "source": [
    "## Decision Tree Model"
   ]
  },
  {
   "cell_type": "code",
   "execution_count": null,
   "id": "c413e803-ee3d-4c7c-82fd-a9e5b3d7e1c5",
   "metadata": {},
   "outputs": [],
   "source": []
  },
  {
   "cell_type": "code",
   "execution_count": null,
   "id": "65681834-c02c-4533-80eb-985c115de4d4",
   "metadata": {},
   "outputs": [],
   "source": []
  },
  {
   "cell_type": "markdown",
   "id": "0fa9150b-e19f-4fa8-a6b3-5887511e4373",
   "metadata": {},
   "source": [
    "## Tune Model"
   ]
  },
  {
   "cell_type": "code",
   "execution_count": 26,
   "id": "92a9ca0f-ca2e-4f10-a087-51dec550e875",
   "metadata": {
    "tags": []
   },
   "outputs": [],
   "source": [
    "def decision_tree():\n",
    "    \n",
    "    # Different possible max depths\n",
    "    max_depths = [2,3,4,5]\n",
    "    accuracies = []\n",
    "    \n",
    "    #Loop trough different max depths and run a DT model and report accuracies\n",
    "    for depth in max_depths:\n",
    "        dt = DecisionTreeClassifier(max_depth = depth)\n",
    "        dt.fit(X_train_scaled, y_train)\n",
    "        y_pred = dt.predict(X_test_scaled)\n",
    "        accuracy = accuracy_score(y_test, y_pred)\n",
    "        accuracies.append(accuracy)\n",
    "        \n",
    "        print(f\"Max Depth: {depth} - Accuracy: {accuracy:.3f}\")\n",
    "        \n",
    "        "
   ]
  },
  {
   "cell_type": "code",
   "execution_count": 27,
   "id": "57188312-d8d8-4777-9f20-6668360dffeb",
   "metadata": {
    "tags": []
   },
   "outputs": [
    {
     "name": "stdout",
     "output_type": "stream",
     "text": [
      "Max Depth: 2 - Accuracy: 0.464\n",
      "Max Depth: 3 - Accuracy: 0.497\n",
      "Max Depth: 4 - Accuracy: 0.511\n",
      "Max Depth: 5 - Accuracy: 0.531\n"
     ]
    }
   ],
   "source": [
    "decision_tree()"
   ]
  }
 ],
 "metadata": {
  "kernelspec": {
   "display_name": "Anaconda 3 (EDS232)",
   "language": "python",
   "name": "ml-env"
  },
  "language_info": {
   "codemirror_mode": {
    "name": "ipython",
    "version": 3
   },
   "file_extension": ".py",
   "mimetype": "text/x-python",
   "name": "python",
   "nbconvert_exporter": "python",
   "pygments_lexer": "ipython3",
   "version": "3.10.16"
  }
 },
 "nbformat": 4,
 "nbformat_minor": 5
}
